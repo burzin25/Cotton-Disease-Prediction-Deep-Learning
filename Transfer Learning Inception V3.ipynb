{
 "cells": [
  {
   "cell_type": "markdown",
   "metadata": {},
   "source": [
    "## Transfer Learning Inception V3 using Keras"
   ]
  },
  {
   "cell_type": "markdown",
   "metadata": {},
   "source": [
    "Please download the dataset from the below url"
   ]
  },
  {
   "cell_type": "code",
   "execution_count": 16,
   "metadata": {},
   "outputs": [
    {
     "name": "stderr",
     "output_type": "stream",
     "text": [
      "C:\\Users\\burzi\\AppData\\Local\\Programs\\Python\\Python39\\lib\\site-packages\\tensorflow\\python\\client\\session.py:1769: UserWarning: An interactive session is already active. This can cause out-of-memory errors in some cases. You must explicitly call `InteractiveSession.close()` to release resources held by the other session(s).\n",
      "  warnings.warn('An interactive session is already active. This can '\n"
     ]
    }
   ],
   "source": [
    "# Importing the necessary modules from TensorFlow v1 compatibility package\n",
    "from tensorflow.compat.v1 import ConfigProto\n",
    "from tensorflow.compat.v1 import InteractiveSession\n",
    "\n",
    "# Configuring TensorFlow session settings\n",
    "config = ConfigProto()\n",
    "\n",
    "# Setting the fraction of GPU memory to be allocated per process to 50%\n",
    "config.gpu_options.per_process_gpu_memory_fraction = 0.5\n",
    "\n",
    "# Allowing dynamic allocation of GPU memory\n",
    "config.gpu_options.allow_growth = True\n",
    "\n",
    "# Creating an interactive TensorFlow session with the specified configuration\n",
    "session = InteractiveSession(config=config)\n"
   ]
  },
  {
   "cell_type": "markdown",
   "metadata": {},
   "source": [
    "These lines of code configure TensorFlow to limit the fraction of GPU memory allocated per process to 50% and allow dynamic growth of GPU memory. This configuration is useful for managing GPU memory usage, especially in scenarios where multiple TensorFlow processes are running simultaneously. Finally, it creates an interactive TensorFlow session with the specified configuration."
   ]
  },
  {
   "cell_type": "code",
   "execution_count": 17,
   "metadata": {},
   "outputs": [],
   "source": [
    "# import the libraries as shown below\n",
    "\n",
    "from tensorflow.keras.layers import Input, Lambda, Dense, Flatten\n",
    "from tensorflow.keras.models import Model\n",
    "from tensorflow.keras.applications.inception_v3 import InceptionV3\n",
    "#from keras.applications.vgg16 import VGG16\n",
    "from tensorflow.keras.applications.inception_v3 import preprocess_input\n",
    "from tensorflow.keras.preprocessing import image\n",
    "from tensorflow.keras.preprocessing.image import ImageDataGenerator,load_img\n",
    "from tensorflow.keras.models import Sequential\n",
    "import numpy as np\n",
    "from glob import glob\n",
    "#import matplotlib.pyplot as plt"
   ]
  },
  {
   "cell_type": "code",
   "execution_count": 18,
   "metadata": {},
   "outputs": [],
   "source": [
    "# Define the desired image size for resizing\n",
    "IMAGE_SIZE = [224, 224]\n",
    "\n",
    "# Define the paths to the directories containing training and validation data\n",
    "train_path = 'Data/train'  # Path to the directory containing training images\n",
    "valid_path = 'Data/test'   # Path to the directory containing validation (or test) images\n"
   ]
  },
  {
   "cell_type": "markdown",
   "metadata": {},
   "source": [
    "These lines of code set the desired size for resizing all images to [224, 224] pixels. They also specify the paths to the directories containing training and validation (or test) images. Adjust the paths as per the actual directory structure and location of your dataset."
   ]
  },
  {
   "cell_type": "code",
   "execution_count": 19,
   "metadata": {},
   "outputs": [],
   "source": [
    "# Import the Vgg 16 library as shown below and add preprocessing layer to the front of VGG\n",
    "# Here we will be using imagenet weights\n",
    "\n",
    "inception = InceptionV3(input_shape=IMAGE_SIZE + [3], weights='imagenet', include_top=False)\n",
    "\n",
    "\n"
   ]
  },
  {
   "cell_type": "code",
   "execution_count": 20,
   "metadata": {},
   "outputs": [],
   "source": [
    "# don't train existing weights\n",
    "for layer in inception.layers:\n",
    "    layer.trainable = False"
   ]
  },
  {
   "cell_type": "markdown",
   "metadata": {},
   "source": [
    "This code iterates through each layer in the Inception model (inception) and sets the trainable attribute to False, effectively freezing the weights of the pre-trained layers. By doing so, only the newly added layers (if any) will be trained during the subsequent training process. This approach is commonly used when fine-tuning pre-trained models to prevent re-learning of already learned features."
   ]
  },
  {
   "cell_type": "code",
   "execution_count": 21,
   "metadata": {},
   "outputs": [],
   "source": [
    "# Get the number of output classes by counting the subdirectories (folders) in the training directory\n",
    "folders = glob('Data/train/*')"
   ]
  },
  {
   "cell_type": "markdown",
   "metadata": {},
   "source": [
    "This line of code uses the glob function to retrieve a list of all subdirectories within the 'Data/train/' directory. Each subdirectory typically represents a class label in the dataset. By counting the number of subdirectories, we can determine the total number of output classes in the dataset. This information is useful for configuring the output layer of the neural network model accordingly."
   ]
  },
  {
   "cell_type": "code",
   "execution_count": 22,
   "metadata": {},
   "outputs": [],
   "source": [
    "# Define additional layers for the model architecture\n",
    "x = Flatten()(inception.output)"
   ]
  },
  {
   "cell_type": "markdown",
   "metadata": {},
   "source": [
    "This line of code adds a Flatten layer to the model architecture. The Flatten layer is used to convert the multi-dimensional output from the previous layer (inception.output) into a one-dimensional vector. This is typically done before passing the data to the fully connected layers for classification.\n",
    "\n",
    "You can add more layers after the Flatten layer if needed, depending on the specific requirements of your model architecture."
   ]
  },
  {
   "cell_type": "code",
   "execution_count": 23,
   "metadata": {},
   "outputs": [],
   "source": [
    "# Define the output layer for the model, with the number of units equal to the number of output classes,\n",
    "# using the softmax activation function for multi-class classification\n",
    "prediction = Dense(len(folders), activation='softmax')(x)\n",
    "\n",
    "# Create a model object that specifies the input and output layers\n",
    "model = Model(inputs=inception.input, outputs=prediction)"
   ]
  },
  {
   "cell_type": "markdown",
   "metadata": {},
   "source": [
    "This code segment creates the output layer for the model, where the number of units is set to the number of output classes determined earlier. The softmax activation function is used to compute the probability distribution over the output classes. Then, a Model object is created, specifying the input layer as the input to the Inception model and the output layer as the newly created prediction layer."
   ]
  },
  {
   "cell_type": "code",
   "execution_count": 24,
   "metadata": {},
   "outputs": [
    {
     "name": "stdout",
     "output_type": "stream",
     "text": [
      "Model: \"model_1\"\n",
      "__________________________________________________________________________________________________\n",
      " Layer (type)                   Output Shape         Param #     Connected to                     \n",
      "==================================================================================================\n",
      " input_2 (InputLayer)           [(None, 224, 224, 3  0           []                               \n",
      "                                )]                                                                \n",
      "                                                                                                  \n",
      " conv2d_94 (Conv2D)             (None, 111, 111, 32  864         ['input_2[0][0]']                \n",
      "                                )                                                                 \n",
      "                                                                                                  \n",
      " batch_normalization_94 (BatchN  (None, 111, 111, 32  96         ['conv2d_94[0][0]']              \n",
      " ormalization)                  )                                                                 \n",
      "                                                                                                  \n",
      " activation_94 (Activation)     (None, 111, 111, 32  0           ['batch_normalization_94[0][0]'] \n",
      "                                )                                                                 \n",
      "                                                                                                  \n",
      " conv2d_95 (Conv2D)             (None, 109, 109, 32  9216        ['activation_94[0][0]']          \n",
      "                                )                                                                 \n",
      "                                                                                                  \n",
      " batch_normalization_95 (BatchN  (None, 109, 109, 32  96         ['conv2d_95[0][0]']              \n",
      " ormalization)                  )                                                                 \n",
      "                                                                                                  \n",
      " activation_95 (Activation)     (None, 109, 109, 32  0           ['batch_normalization_95[0][0]'] \n",
      "                                )                                                                 \n",
      "                                                                                                  \n",
      " conv2d_96 (Conv2D)             (None, 109, 109, 64  18432       ['activation_95[0][0]']          \n",
      "                                )                                                                 \n",
      "                                                                                                  \n",
      " batch_normalization_96 (BatchN  (None, 109, 109, 64  192        ['conv2d_96[0][0]']              \n",
      " ormalization)                  )                                                                 \n",
      "                                                                                                  \n",
      " activation_96 (Activation)     (None, 109, 109, 64  0           ['batch_normalization_96[0][0]'] \n",
      "                                )                                                                 \n",
      "                                                                                                  \n",
      " max_pooling2d_4 (MaxPooling2D)  (None, 54, 54, 64)  0           ['activation_96[0][0]']          \n",
      "                                                                                                  \n",
      " conv2d_97 (Conv2D)             (None, 54, 54, 80)   5120        ['max_pooling2d_4[0][0]']        \n",
      "                                                                                                  \n",
      " batch_normalization_97 (BatchN  (None, 54, 54, 80)  240         ['conv2d_97[0][0]']              \n",
      " ormalization)                                                                                    \n",
      "                                                                                                  \n",
      " activation_97 (Activation)     (None, 54, 54, 80)   0           ['batch_normalization_97[0][0]'] \n",
      "                                                                                                  \n",
      " conv2d_98 (Conv2D)             (None, 52, 52, 192)  138240      ['activation_97[0][0]']          \n",
      "                                                                                                  \n",
      " batch_normalization_98 (BatchN  (None, 52, 52, 192)  576        ['conv2d_98[0][0]']              \n",
      " ormalization)                                                                                    \n",
      "                                                                                                  \n",
      " activation_98 (Activation)     (None, 52, 52, 192)  0           ['batch_normalization_98[0][0]'] \n",
      "                                                                                                  \n",
      " max_pooling2d_5 (MaxPooling2D)  (None, 25, 25, 192)  0          ['activation_98[0][0]']          \n",
      "                                                                                                  \n",
      " conv2d_102 (Conv2D)            (None, 25, 25, 64)   12288       ['max_pooling2d_5[0][0]']        \n",
      "                                                                                                  \n",
      " batch_normalization_102 (Batch  (None, 25, 25, 64)  192         ['conv2d_102[0][0]']             \n",
      " Normalization)                                                                                   \n",
      "                                                                                                  \n",
      " activation_102 (Activation)    (None, 25, 25, 64)   0           ['batch_normalization_102[0][0]']\n",
      "                                                                                                  \n",
      " conv2d_100 (Conv2D)            (None, 25, 25, 48)   9216        ['max_pooling2d_5[0][0]']        \n",
      "                                                                                                  \n",
      " conv2d_103 (Conv2D)            (None, 25, 25, 96)   55296       ['activation_102[0][0]']         \n",
      "                                                                                                  \n",
      " batch_normalization_100 (Batch  (None, 25, 25, 48)  144         ['conv2d_100[0][0]']             \n",
      " Normalization)                                                                                   \n",
      "                                                                                                  \n",
      " batch_normalization_103 (Batch  (None, 25, 25, 96)  288         ['conv2d_103[0][0]']             \n",
      " Normalization)                                                                                   \n",
      "                                                                                                  \n",
      " activation_100 (Activation)    (None, 25, 25, 48)   0           ['batch_normalization_100[0][0]']\n",
      "                                                                                                  \n",
      " activation_103 (Activation)    (None, 25, 25, 96)   0           ['batch_normalization_103[0][0]']\n",
      "                                                                                                  \n",
      " average_pooling2d_9 (AveragePo  (None, 25, 25, 192)  0          ['max_pooling2d_5[0][0]']        \n",
      " oling2D)                                                                                         \n",
      "                                                                                                  \n",
      " conv2d_99 (Conv2D)             (None, 25, 25, 64)   12288       ['max_pooling2d_5[0][0]']        \n",
      "                                                                                                  \n",
      " conv2d_101 (Conv2D)            (None, 25, 25, 64)   76800       ['activation_100[0][0]']         \n",
      "                                                                                                  \n",
      " conv2d_104 (Conv2D)            (None, 25, 25, 96)   82944       ['activation_103[0][0]']         \n",
      "                                                                                                  \n",
      " conv2d_105 (Conv2D)            (None, 25, 25, 32)   6144        ['average_pooling2d_9[0][0]']    \n",
      "                                                                                                  \n"
     ]
    },
    {
     "name": "stdout",
     "output_type": "stream",
     "text": [
      " batch_normalization_99 (BatchN  (None, 25, 25, 64)  192         ['conv2d_99[0][0]']              \n",
      " ormalization)                                                                                    \n",
      "                                                                                                  \n",
      " batch_normalization_101 (Batch  (None, 25, 25, 64)  192         ['conv2d_101[0][0]']             \n",
      " Normalization)                                                                                   \n",
      "                                                                                                  \n",
      " batch_normalization_104 (Batch  (None, 25, 25, 96)  288         ['conv2d_104[0][0]']             \n",
      " Normalization)                                                                                   \n",
      "                                                                                                  \n",
      " batch_normalization_105 (Batch  (None, 25, 25, 32)  96          ['conv2d_105[0][0]']             \n",
      " Normalization)                                                                                   \n",
      "                                                                                                  \n",
      " activation_99 (Activation)     (None, 25, 25, 64)   0           ['batch_normalization_99[0][0]'] \n",
      "                                                                                                  \n",
      " activation_101 (Activation)    (None, 25, 25, 64)   0           ['batch_normalization_101[0][0]']\n",
      "                                                                                                  \n",
      " activation_104 (Activation)    (None, 25, 25, 96)   0           ['batch_normalization_104[0][0]']\n",
      "                                                                                                  \n",
      " activation_105 (Activation)    (None, 25, 25, 32)   0           ['batch_normalization_105[0][0]']\n",
      "                                                                                                  \n",
      " mixed0 (Concatenate)           (None, 25, 25, 256)  0           ['activation_99[0][0]',          \n",
      "                                                                  'activation_101[0][0]',         \n",
      "                                                                  'activation_104[0][0]',         \n",
      "                                                                  'activation_105[0][0]']         \n",
      "                                                                                                  \n",
      " conv2d_109 (Conv2D)            (None, 25, 25, 64)   16384       ['mixed0[0][0]']                 \n",
      "                                                                                                  \n",
      " batch_normalization_109 (Batch  (None, 25, 25, 64)  192         ['conv2d_109[0][0]']             \n",
      " Normalization)                                                                                   \n",
      "                                                                                                  \n",
      " activation_109 (Activation)    (None, 25, 25, 64)   0           ['batch_normalization_109[0][0]']\n",
      "                                                                                                  \n",
      " conv2d_107 (Conv2D)            (None, 25, 25, 48)   12288       ['mixed0[0][0]']                 \n",
      "                                                                                                  \n",
      " conv2d_110 (Conv2D)            (None, 25, 25, 96)   55296       ['activation_109[0][0]']         \n",
      "                                                                                                  \n",
      " batch_normalization_107 (Batch  (None, 25, 25, 48)  144         ['conv2d_107[0][0]']             \n",
      " Normalization)                                                                                   \n",
      "                                                                                                  \n",
      " batch_normalization_110 (Batch  (None, 25, 25, 96)  288         ['conv2d_110[0][0]']             \n",
      " Normalization)                                                                                   \n",
      "                                                                                                  \n",
      " activation_107 (Activation)    (None, 25, 25, 48)   0           ['batch_normalization_107[0][0]']\n",
      "                                                                                                  \n",
      " activation_110 (Activation)    (None, 25, 25, 96)   0           ['batch_normalization_110[0][0]']\n",
      "                                                                                                  \n",
      " average_pooling2d_10 (AverageP  (None, 25, 25, 256)  0          ['mixed0[0][0]']                 \n",
      " ooling2D)                                                                                        \n",
      "                                                                                                  \n",
      " conv2d_106 (Conv2D)            (None, 25, 25, 64)   16384       ['mixed0[0][0]']                 \n",
      "                                                                                                  \n",
      " conv2d_108 (Conv2D)            (None, 25, 25, 64)   76800       ['activation_107[0][0]']         \n",
      "                                                                                                  \n",
      " conv2d_111 (Conv2D)            (None, 25, 25, 96)   82944       ['activation_110[0][0]']         \n",
      "                                                                                                  \n",
      " conv2d_112 (Conv2D)            (None, 25, 25, 64)   16384       ['average_pooling2d_10[0][0]']   \n",
      "                                                                                                  \n",
      " batch_normalization_106 (Batch  (None, 25, 25, 64)  192         ['conv2d_106[0][0]']             \n",
      " Normalization)                                                                                   \n",
      "                                                                                                  \n",
      " batch_normalization_108 (Batch  (None, 25, 25, 64)  192         ['conv2d_108[0][0]']             \n",
      " Normalization)                                                                                   \n",
      "                                                                                                  \n",
      " batch_normalization_111 (Batch  (None, 25, 25, 96)  288         ['conv2d_111[0][0]']             \n",
      " Normalization)                                                                                   \n",
      "                                                                                                  \n",
      " batch_normalization_112 (Batch  (None, 25, 25, 64)  192         ['conv2d_112[0][0]']             \n",
      " Normalization)                                                                                   \n",
      "                                                                                                  \n",
      " activation_106 (Activation)    (None, 25, 25, 64)   0           ['batch_normalization_106[0][0]']\n",
      "                                                                                                  \n",
      " activation_108 (Activation)    (None, 25, 25, 64)   0           ['batch_normalization_108[0][0]']\n",
      "                                                                                                  \n",
      " activation_111 (Activation)    (None, 25, 25, 96)   0           ['batch_normalization_111[0][0]']\n",
      "                                                                                                  \n",
      " activation_112 (Activation)    (None, 25, 25, 64)   0           ['batch_normalization_112[0][0]']\n",
      "                                                                                                  \n",
      " mixed1 (Concatenate)           (None, 25, 25, 288)  0           ['activation_106[0][0]',         \n",
      "                                                                  'activation_108[0][0]',         \n",
      "                                                                  'activation_111[0][0]',         \n",
      "                                                                  'activation_112[0][0]']         \n",
      "                                                                                                  \n",
      " conv2d_116 (Conv2D)            (None, 25, 25, 64)   18432       ['mixed1[0][0]']                 \n"
     ]
    },
    {
     "name": "stdout",
     "output_type": "stream",
     "text": [
      "                                                                                                  \n",
      " batch_normalization_116 (Batch  (None, 25, 25, 64)  192         ['conv2d_116[0][0]']             \n",
      " Normalization)                                                                                   \n",
      "                                                                                                  \n",
      " activation_116 (Activation)    (None, 25, 25, 64)   0           ['batch_normalization_116[0][0]']\n",
      "                                                                                                  \n",
      " conv2d_114 (Conv2D)            (None, 25, 25, 48)   13824       ['mixed1[0][0]']                 \n",
      "                                                                                                  \n",
      " conv2d_117 (Conv2D)            (None, 25, 25, 96)   55296       ['activation_116[0][0]']         \n",
      "                                                                                                  \n",
      " batch_normalization_114 (Batch  (None, 25, 25, 48)  144         ['conv2d_114[0][0]']             \n",
      " Normalization)                                                                                   \n",
      "                                                                                                  \n",
      " batch_normalization_117 (Batch  (None, 25, 25, 96)  288         ['conv2d_117[0][0]']             \n",
      " Normalization)                                                                                   \n",
      "                                                                                                  \n",
      " activation_114 (Activation)    (None, 25, 25, 48)   0           ['batch_normalization_114[0][0]']\n",
      "                                                                                                  \n",
      " activation_117 (Activation)    (None, 25, 25, 96)   0           ['batch_normalization_117[0][0]']\n",
      "                                                                                                  \n",
      " average_pooling2d_11 (AverageP  (None, 25, 25, 288)  0          ['mixed1[0][0]']                 \n",
      " ooling2D)                                                                                        \n",
      "                                                                                                  \n",
      " conv2d_113 (Conv2D)            (None, 25, 25, 64)   18432       ['mixed1[0][0]']                 \n",
      "                                                                                                  \n",
      " conv2d_115 (Conv2D)            (None, 25, 25, 64)   76800       ['activation_114[0][0]']         \n",
      "                                                                                                  \n",
      " conv2d_118 (Conv2D)            (None, 25, 25, 96)   82944       ['activation_117[0][0]']         \n",
      "                                                                                                  \n",
      " conv2d_119 (Conv2D)            (None, 25, 25, 64)   18432       ['average_pooling2d_11[0][0]']   \n",
      "                                                                                                  \n",
      " batch_normalization_113 (Batch  (None, 25, 25, 64)  192         ['conv2d_113[0][0]']             \n",
      " Normalization)                                                                                   \n",
      "                                                                                                  \n",
      " batch_normalization_115 (Batch  (None, 25, 25, 64)  192         ['conv2d_115[0][0]']             \n",
      " Normalization)                                                                                   \n",
      "                                                                                                  \n",
      " batch_normalization_118 (Batch  (None, 25, 25, 96)  288         ['conv2d_118[0][0]']             \n",
      " Normalization)                                                                                   \n",
      "                                                                                                  \n",
      " batch_normalization_119 (Batch  (None, 25, 25, 64)  192         ['conv2d_119[0][0]']             \n",
      " Normalization)                                                                                   \n",
      "                                                                                                  \n",
      " activation_113 (Activation)    (None, 25, 25, 64)   0           ['batch_normalization_113[0][0]']\n",
      "                                                                                                  \n",
      " activation_115 (Activation)    (None, 25, 25, 64)   0           ['batch_normalization_115[0][0]']\n",
      "                                                                                                  \n",
      " activation_118 (Activation)    (None, 25, 25, 96)   0           ['batch_normalization_118[0][0]']\n",
      "                                                                                                  \n",
      " activation_119 (Activation)    (None, 25, 25, 64)   0           ['batch_normalization_119[0][0]']\n",
      "                                                                                                  \n",
      " mixed2 (Concatenate)           (None, 25, 25, 288)  0           ['activation_113[0][0]',         \n",
      "                                                                  'activation_115[0][0]',         \n",
      "                                                                  'activation_118[0][0]',         \n",
      "                                                                  'activation_119[0][0]']         \n",
      "                                                                                                  \n",
      " conv2d_121 (Conv2D)            (None, 25, 25, 64)   18432       ['mixed2[0][0]']                 \n",
      "                                                                                                  \n",
      " batch_normalization_121 (Batch  (None, 25, 25, 64)  192         ['conv2d_121[0][0]']             \n",
      " Normalization)                                                                                   \n",
      "                                                                                                  \n",
      " activation_121 (Activation)    (None, 25, 25, 64)   0           ['batch_normalization_121[0][0]']\n",
      "                                                                                                  \n",
      " conv2d_122 (Conv2D)            (None, 25, 25, 96)   55296       ['activation_121[0][0]']         \n",
      "                                                                                                  \n",
      " batch_normalization_122 (Batch  (None, 25, 25, 96)  288         ['conv2d_122[0][0]']             \n",
      " Normalization)                                                                                   \n",
      "                                                                                                  \n",
      " activation_122 (Activation)    (None, 25, 25, 96)   0           ['batch_normalization_122[0][0]']\n",
      "                                                                                                  \n",
      " conv2d_120 (Conv2D)            (None, 12, 12, 384)  995328      ['mixed2[0][0]']                 \n",
      "                                                                                                  \n",
      " conv2d_123 (Conv2D)            (None, 12, 12, 96)   82944       ['activation_122[0][0]']         \n",
      "                                                                                                  \n",
      " batch_normalization_120 (Batch  (None, 12, 12, 384)  1152       ['conv2d_120[0][0]']             \n",
      " Normalization)                                                                                   \n",
      "                                                                                                  \n",
      " batch_normalization_123 (Batch  (None, 12, 12, 96)  288         ['conv2d_123[0][0]']             \n",
      " Normalization)                                                                                   \n",
      "                                                                                                  \n",
      " activation_120 (Activation)    (None, 12, 12, 384)  0           ['batch_normalization_120[0][0]']\n",
      "                                                                                                  \n",
      " activation_123 (Activation)    (None, 12, 12, 96)   0           ['batch_normalization_123[0][0]']\n"
     ]
    },
    {
     "name": "stdout",
     "output_type": "stream",
     "text": [
      "                                                                                                  \n",
      " max_pooling2d_6 (MaxPooling2D)  (None, 12, 12, 288)  0          ['mixed2[0][0]']                 \n",
      "                                                                                                  \n",
      " mixed3 (Concatenate)           (None, 12, 12, 768)  0           ['activation_120[0][0]',         \n",
      "                                                                  'activation_123[0][0]',         \n",
      "                                                                  'max_pooling2d_6[0][0]']        \n",
      "                                                                                                  \n",
      " conv2d_128 (Conv2D)            (None, 12, 12, 128)  98304       ['mixed3[0][0]']                 \n",
      "                                                                                                  \n",
      " batch_normalization_128 (Batch  (None, 12, 12, 128)  384        ['conv2d_128[0][0]']             \n",
      " Normalization)                                                                                   \n",
      "                                                                                                  \n",
      " activation_128 (Activation)    (None, 12, 12, 128)  0           ['batch_normalization_128[0][0]']\n",
      "                                                                                                  \n",
      " conv2d_129 (Conv2D)            (None, 12, 12, 128)  114688      ['activation_128[0][0]']         \n",
      "                                                                                                  \n",
      " batch_normalization_129 (Batch  (None, 12, 12, 128)  384        ['conv2d_129[0][0]']             \n",
      " Normalization)                                                                                   \n",
      "                                                                                                  \n",
      " activation_129 (Activation)    (None, 12, 12, 128)  0           ['batch_normalization_129[0][0]']\n",
      "                                                                                                  \n",
      " conv2d_125 (Conv2D)            (None, 12, 12, 128)  98304       ['mixed3[0][0]']                 \n",
      "                                                                                                  \n",
      " conv2d_130 (Conv2D)            (None, 12, 12, 128)  114688      ['activation_129[0][0]']         \n",
      "                                                                                                  \n",
      " batch_normalization_125 (Batch  (None, 12, 12, 128)  384        ['conv2d_125[0][0]']             \n",
      " Normalization)                                                                                   \n",
      "                                                                                                  \n",
      " batch_normalization_130 (Batch  (None, 12, 12, 128)  384        ['conv2d_130[0][0]']             \n",
      " Normalization)                                                                                   \n",
      "                                                                                                  \n",
      " activation_125 (Activation)    (None, 12, 12, 128)  0           ['batch_normalization_125[0][0]']\n",
      "                                                                                                  \n",
      " activation_130 (Activation)    (None, 12, 12, 128)  0           ['batch_normalization_130[0][0]']\n",
      "                                                                                                  \n",
      " conv2d_126 (Conv2D)            (None, 12, 12, 128)  114688      ['activation_125[0][0]']         \n",
      "                                                                                                  \n",
      " conv2d_131 (Conv2D)            (None, 12, 12, 128)  114688      ['activation_130[0][0]']         \n",
      "                                                                                                  \n",
      " batch_normalization_126 (Batch  (None, 12, 12, 128)  384        ['conv2d_126[0][0]']             \n",
      " Normalization)                                                                                   \n",
      "                                                                                                  \n",
      " batch_normalization_131 (Batch  (None, 12, 12, 128)  384        ['conv2d_131[0][0]']             \n",
      " Normalization)                                                                                   \n",
      "                                                                                                  \n",
      " activation_126 (Activation)    (None, 12, 12, 128)  0           ['batch_normalization_126[0][0]']\n",
      "                                                                                                  \n",
      " activation_131 (Activation)    (None, 12, 12, 128)  0           ['batch_normalization_131[0][0]']\n",
      "                                                                                                  \n",
      " average_pooling2d_12 (AverageP  (None, 12, 12, 768)  0          ['mixed3[0][0]']                 \n",
      " ooling2D)                                                                                        \n",
      "                                                                                                  \n",
      " conv2d_124 (Conv2D)            (None, 12, 12, 192)  147456      ['mixed3[0][0]']                 \n",
      "                                                                                                  \n",
      " conv2d_127 (Conv2D)            (None, 12, 12, 192)  172032      ['activation_126[0][0]']         \n",
      "                                                                                                  \n",
      " conv2d_132 (Conv2D)            (None, 12, 12, 192)  172032      ['activation_131[0][0]']         \n",
      "                                                                                                  \n",
      " conv2d_133 (Conv2D)            (None, 12, 12, 192)  147456      ['average_pooling2d_12[0][0]']   \n",
      "                                                                                                  \n",
      " batch_normalization_124 (Batch  (None, 12, 12, 192)  576        ['conv2d_124[0][0]']             \n",
      " Normalization)                                                                                   \n",
      "                                                                                                  \n",
      " batch_normalization_127 (Batch  (None, 12, 12, 192)  576        ['conv2d_127[0][0]']             \n",
      " Normalization)                                                                                   \n",
      "                                                                                                  \n",
      " batch_normalization_132 (Batch  (None, 12, 12, 192)  576        ['conv2d_132[0][0]']             \n",
      " Normalization)                                                                                   \n",
      "                                                                                                  \n",
      " batch_normalization_133 (Batch  (None, 12, 12, 192)  576        ['conv2d_133[0][0]']             \n",
      " Normalization)                                                                                   \n",
      "                                                                                                  \n",
      " activation_124 (Activation)    (None, 12, 12, 192)  0           ['batch_normalization_124[0][0]']\n",
      "                                                                                                  \n",
      " activation_127 (Activation)    (None, 12, 12, 192)  0           ['batch_normalization_127[0][0]']\n",
      "                                                                                                  \n",
      " activation_132 (Activation)    (None, 12, 12, 192)  0           ['batch_normalization_132[0][0]']\n",
      "                                                                                                  \n",
      " activation_133 (Activation)    (None, 12, 12, 192)  0           ['batch_normalization_133[0][0]']\n",
      "                                                                                                  \n",
      " mixed4 (Concatenate)           (None, 12, 12, 768)  0           ['activation_124[0][0]',         \n",
      "                                                                  'activation_127[0][0]',         \n",
      "                                                                  'activation_132[0][0]',         \n"
     ]
    },
    {
     "name": "stdout",
     "output_type": "stream",
     "text": [
      "                                                                  'activation_133[0][0]']         \n",
      "                                                                                                  \n",
      " conv2d_138 (Conv2D)            (None, 12, 12, 160)  122880      ['mixed4[0][0]']                 \n",
      "                                                                                                  \n",
      " batch_normalization_138 (Batch  (None, 12, 12, 160)  480        ['conv2d_138[0][0]']             \n",
      " Normalization)                                                                                   \n",
      "                                                                                                  \n",
      " activation_138 (Activation)    (None, 12, 12, 160)  0           ['batch_normalization_138[0][0]']\n",
      "                                                                                                  \n",
      " conv2d_139 (Conv2D)            (None, 12, 12, 160)  179200      ['activation_138[0][0]']         \n",
      "                                                                                                  \n",
      " batch_normalization_139 (Batch  (None, 12, 12, 160)  480        ['conv2d_139[0][0]']             \n",
      " Normalization)                                                                                   \n",
      "                                                                                                  \n",
      " activation_139 (Activation)    (None, 12, 12, 160)  0           ['batch_normalization_139[0][0]']\n",
      "                                                                                                  \n",
      " conv2d_135 (Conv2D)            (None, 12, 12, 160)  122880      ['mixed4[0][0]']                 \n",
      "                                                                                                  \n",
      " conv2d_140 (Conv2D)            (None, 12, 12, 160)  179200      ['activation_139[0][0]']         \n",
      "                                                                                                  \n",
      " batch_normalization_135 (Batch  (None, 12, 12, 160)  480        ['conv2d_135[0][0]']             \n",
      " Normalization)                                                                                   \n",
      "                                                                                                  \n",
      " batch_normalization_140 (Batch  (None, 12, 12, 160)  480        ['conv2d_140[0][0]']             \n",
      " Normalization)                                                                                   \n",
      "                                                                                                  \n",
      " activation_135 (Activation)    (None, 12, 12, 160)  0           ['batch_normalization_135[0][0]']\n",
      "                                                                                                  \n",
      " activation_140 (Activation)    (None, 12, 12, 160)  0           ['batch_normalization_140[0][0]']\n",
      "                                                                                                  \n",
      " conv2d_136 (Conv2D)            (None, 12, 12, 160)  179200      ['activation_135[0][0]']         \n",
      "                                                                                                  \n",
      " conv2d_141 (Conv2D)            (None, 12, 12, 160)  179200      ['activation_140[0][0]']         \n",
      "                                                                                                  \n",
      " batch_normalization_136 (Batch  (None, 12, 12, 160)  480        ['conv2d_136[0][0]']             \n",
      " Normalization)                                                                                   \n",
      "                                                                                                  \n",
      " batch_normalization_141 (Batch  (None, 12, 12, 160)  480        ['conv2d_141[0][0]']             \n",
      " Normalization)                                                                                   \n",
      "                                                                                                  \n",
      " activation_136 (Activation)    (None, 12, 12, 160)  0           ['batch_normalization_136[0][0]']\n",
      "                                                                                                  \n",
      " activation_141 (Activation)    (None, 12, 12, 160)  0           ['batch_normalization_141[0][0]']\n",
      "                                                                                                  \n",
      " average_pooling2d_13 (AverageP  (None, 12, 12, 768)  0          ['mixed4[0][0]']                 \n",
      " ooling2D)                                                                                        \n",
      "                                                                                                  \n",
      " conv2d_134 (Conv2D)            (None, 12, 12, 192)  147456      ['mixed4[0][0]']                 \n",
      "                                                                                                  \n",
      " conv2d_137 (Conv2D)            (None, 12, 12, 192)  215040      ['activation_136[0][0]']         \n",
      "                                                                                                  \n",
      " conv2d_142 (Conv2D)            (None, 12, 12, 192)  215040      ['activation_141[0][0]']         \n",
      "                                                                                                  \n",
      " conv2d_143 (Conv2D)            (None, 12, 12, 192)  147456      ['average_pooling2d_13[0][0]']   \n",
      "                                                                                                  \n",
      " batch_normalization_134 (Batch  (None, 12, 12, 192)  576        ['conv2d_134[0][0]']             \n",
      " Normalization)                                                                                   \n",
      "                                                                                                  \n",
      " batch_normalization_137 (Batch  (None, 12, 12, 192)  576        ['conv2d_137[0][0]']             \n",
      " Normalization)                                                                                   \n",
      "                                                                                                  \n",
      " batch_normalization_142 (Batch  (None, 12, 12, 192)  576        ['conv2d_142[0][0]']             \n",
      " Normalization)                                                                                   \n",
      "                                                                                                  \n",
      " batch_normalization_143 (Batch  (None, 12, 12, 192)  576        ['conv2d_143[0][0]']             \n",
      " Normalization)                                                                                   \n",
      "                                                                                                  \n",
      " activation_134 (Activation)    (None, 12, 12, 192)  0           ['batch_normalization_134[0][0]']\n",
      "                                                                                                  \n",
      " activation_137 (Activation)    (None, 12, 12, 192)  0           ['batch_normalization_137[0][0]']\n",
      "                                                                                                  \n",
      " activation_142 (Activation)    (None, 12, 12, 192)  0           ['batch_normalization_142[0][0]']\n",
      "                                                                                                  \n",
      " activation_143 (Activation)    (None, 12, 12, 192)  0           ['batch_normalization_143[0][0]']\n",
      "                                                                                                  \n",
      " mixed5 (Concatenate)           (None, 12, 12, 768)  0           ['activation_134[0][0]',         \n",
      "                                                                  'activation_137[0][0]',         \n",
      "                                                                  'activation_142[0][0]',         \n",
      "                                                                  'activation_143[0][0]']         \n",
      "                                                                                                  \n",
      " conv2d_148 (Conv2D)            (None, 12, 12, 160)  122880      ['mixed5[0][0]']                 \n",
      "                                                                                                  \n",
      " batch_normalization_148 (Batch  (None, 12, 12, 160)  480        ['conv2d_148[0][0]']             \n"
     ]
    },
    {
     "name": "stdout",
     "output_type": "stream",
     "text": [
      " Normalization)                                                                                   \n",
      "                                                                                                  \n",
      " activation_148 (Activation)    (None, 12, 12, 160)  0           ['batch_normalization_148[0][0]']\n",
      "                                                                                                  \n",
      " conv2d_149 (Conv2D)            (None, 12, 12, 160)  179200      ['activation_148[0][0]']         \n",
      "                                                                                                  \n",
      " batch_normalization_149 (Batch  (None, 12, 12, 160)  480        ['conv2d_149[0][0]']             \n",
      " Normalization)                                                                                   \n",
      "                                                                                                  \n",
      " activation_149 (Activation)    (None, 12, 12, 160)  0           ['batch_normalization_149[0][0]']\n",
      "                                                                                                  \n",
      " conv2d_145 (Conv2D)            (None, 12, 12, 160)  122880      ['mixed5[0][0]']                 \n",
      "                                                                                                  \n",
      " conv2d_150 (Conv2D)            (None, 12, 12, 160)  179200      ['activation_149[0][0]']         \n",
      "                                                                                                  \n",
      " batch_normalization_145 (Batch  (None, 12, 12, 160)  480        ['conv2d_145[0][0]']             \n",
      " Normalization)                                                                                   \n",
      "                                                                                                  \n",
      " batch_normalization_150 (Batch  (None, 12, 12, 160)  480        ['conv2d_150[0][0]']             \n",
      " Normalization)                                                                                   \n",
      "                                                                                                  \n",
      " activation_145 (Activation)    (None, 12, 12, 160)  0           ['batch_normalization_145[0][0]']\n",
      "                                                                                                  \n",
      " activation_150 (Activation)    (None, 12, 12, 160)  0           ['batch_normalization_150[0][0]']\n",
      "                                                                                                  \n",
      " conv2d_146 (Conv2D)            (None, 12, 12, 160)  179200      ['activation_145[0][0]']         \n",
      "                                                                                                  \n",
      " conv2d_151 (Conv2D)            (None, 12, 12, 160)  179200      ['activation_150[0][0]']         \n",
      "                                                                                                  \n",
      " batch_normalization_146 (Batch  (None, 12, 12, 160)  480        ['conv2d_146[0][0]']             \n",
      " Normalization)                                                                                   \n",
      "                                                                                                  \n",
      " batch_normalization_151 (Batch  (None, 12, 12, 160)  480        ['conv2d_151[0][0]']             \n",
      " Normalization)                                                                                   \n",
      "                                                                                                  \n",
      " activation_146 (Activation)    (None, 12, 12, 160)  0           ['batch_normalization_146[0][0]']\n",
      "                                                                                                  \n",
      " activation_151 (Activation)    (None, 12, 12, 160)  0           ['batch_normalization_151[0][0]']\n",
      "                                                                                                  \n",
      " average_pooling2d_14 (AverageP  (None, 12, 12, 768)  0          ['mixed5[0][0]']                 \n",
      " ooling2D)                                                                                        \n",
      "                                                                                                  \n",
      " conv2d_144 (Conv2D)            (None, 12, 12, 192)  147456      ['mixed5[0][0]']                 \n",
      "                                                                                                  \n",
      " conv2d_147 (Conv2D)            (None, 12, 12, 192)  215040      ['activation_146[0][0]']         \n",
      "                                                                                                  \n",
      " conv2d_152 (Conv2D)            (None, 12, 12, 192)  215040      ['activation_151[0][0]']         \n",
      "                                                                                                  \n",
      " conv2d_153 (Conv2D)            (None, 12, 12, 192)  147456      ['average_pooling2d_14[0][0]']   \n",
      "                                                                                                  \n",
      " batch_normalization_144 (Batch  (None, 12, 12, 192)  576        ['conv2d_144[0][0]']             \n",
      " Normalization)                                                                                   \n",
      "                                                                                                  \n",
      " batch_normalization_147 (Batch  (None, 12, 12, 192)  576        ['conv2d_147[0][0]']             \n",
      " Normalization)                                                                                   \n",
      "                                                                                                  \n",
      " batch_normalization_152 (Batch  (None, 12, 12, 192)  576        ['conv2d_152[0][0]']             \n",
      " Normalization)                                                                                   \n",
      "                                                                                                  \n",
      " batch_normalization_153 (Batch  (None, 12, 12, 192)  576        ['conv2d_153[0][0]']             \n",
      " Normalization)                                                                                   \n",
      "                                                                                                  \n",
      " activation_144 (Activation)    (None, 12, 12, 192)  0           ['batch_normalization_144[0][0]']\n",
      "                                                                                                  \n",
      " activation_147 (Activation)    (None, 12, 12, 192)  0           ['batch_normalization_147[0][0]']\n",
      "                                                                                                  \n",
      " activation_152 (Activation)    (None, 12, 12, 192)  0           ['batch_normalization_152[0][0]']\n",
      "                                                                                                  \n",
      " activation_153 (Activation)    (None, 12, 12, 192)  0           ['batch_normalization_153[0][0]']\n",
      "                                                                                                  \n",
      " mixed6 (Concatenate)           (None, 12, 12, 768)  0           ['activation_144[0][0]',         \n",
      "                                                                  'activation_147[0][0]',         \n",
      "                                                                  'activation_152[0][0]',         \n",
      "                                                                  'activation_153[0][0]']         \n",
      "                                                                                                  \n",
      " conv2d_158 (Conv2D)            (None, 12, 12, 192)  147456      ['mixed6[0][0]']                 \n",
      "                                                                                                  \n",
      " batch_normalization_158 (Batch  (None, 12, 12, 192)  576        ['conv2d_158[0][0]']             \n",
      " Normalization)                                                                                   \n",
      "                                                                                                  \n",
      " activation_158 (Activation)    (None, 12, 12, 192)  0           ['batch_normalization_158[0][0]']\n",
      "                                                                                                  \n",
      " conv2d_159 (Conv2D)            (None, 12, 12, 192)  258048      ['activation_158[0][0]']         \n"
     ]
    },
    {
     "name": "stdout",
     "output_type": "stream",
     "text": [
      "                                                                                                  \n",
      " batch_normalization_159 (Batch  (None, 12, 12, 192)  576        ['conv2d_159[0][0]']             \n",
      " Normalization)                                                                                   \n",
      "                                                                                                  \n",
      " activation_159 (Activation)    (None, 12, 12, 192)  0           ['batch_normalization_159[0][0]']\n",
      "                                                                                                  \n",
      " conv2d_155 (Conv2D)            (None, 12, 12, 192)  147456      ['mixed6[0][0]']                 \n",
      "                                                                                                  \n",
      " conv2d_160 (Conv2D)            (None, 12, 12, 192)  258048      ['activation_159[0][0]']         \n",
      "                                                                                                  \n",
      " batch_normalization_155 (Batch  (None, 12, 12, 192)  576        ['conv2d_155[0][0]']             \n",
      " Normalization)                                                                                   \n",
      "                                                                                                  \n",
      " batch_normalization_160 (Batch  (None, 12, 12, 192)  576        ['conv2d_160[0][0]']             \n",
      " Normalization)                                                                                   \n",
      "                                                                                                  \n",
      " activation_155 (Activation)    (None, 12, 12, 192)  0           ['batch_normalization_155[0][0]']\n",
      "                                                                                                  \n",
      " activation_160 (Activation)    (None, 12, 12, 192)  0           ['batch_normalization_160[0][0]']\n",
      "                                                                                                  \n",
      " conv2d_156 (Conv2D)            (None, 12, 12, 192)  258048      ['activation_155[0][0]']         \n",
      "                                                                                                  \n",
      " conv2d_161 (Conv2D)            (None, 12, 12, 192)  258048      ['activation_160[0][0]']         \n",
      "                                                                                                  \n",
      " batch_normalization_156 (Batch  (None, 12, 12, 192)  576        ['conv2d_156[0][0]']             \n",
      " Normalization)                                                                                   \n",
      "                                                                                                  \n",
      " batch_normalization_161 (Batch  (None, 12, 12, 192)  576        ['conv2d_161[0][0]']             \n",
      " Normalization)                                                                                   \n",
      "                                                                                                  \n",
      " activation_156 (Activation)    (None, 12, 12, 192)  0           ['batch_normalization_156[0][0]']\n",
      "                                                                                                  \n",
      " activation_161 (Activation)    (None, 12, 12, 192)  0           ['batch_normalization_161[0][0]']\n",
      "                                                                                                  \n",
      " average_pooling2d_15 (AverageP  (None, 12, 12, 768)  0          ['mixed6[0][0]']                 \n",
      " ooling2D)                                                                                        \n",
      "                                                                                                  \n",
      " conv2d_154 (Conv2D)            (None, 12, 12, 192)  147456      ['mixed6[0][0]']                 \n",
      "                                                                                                  \n",
      " conv2d_157 (Conv2D)            (None, 12, 12, 192)  258048      ['activation_156[0][0]']         \n",
      "                                                                                                  \n",
      " conv2d_162 (Conv2D)            (None, 12, 12, 192)  258048      ['activation_161[0][0]']         \n",
      "                                                                                                  \n",
      " conv2d_163 (Conv2D)            (None, 12, 12, 192)  147456      ['average_pooling2d_15[0][0]']   \n",
      "                                                                                                  \n",
      " batch_normalization_154 (Batch  (None, 12, 12, 192)  576        ['conv2d_154[0][0]']             \n",
      " Normalization)                                                                                   \n",
      "                                                                                                  \n",
      " batch_normalization_157 (Batch  (None, 12, 12, 192)  576        ['conv2d_157[0][0]']             \n",
      " Normalization)                                                                                   \n",
      "                                                                                                  \n",
      " batch_normalization_162 (Batch  (None, 12, 12, 192)  576        ['conv2d_162[0][0]']             \n",
      " Normalization)                                                                                   \n",
      "                                                                                                  \n",
      " batch_normalization_163 (Batch  (None, 12, 12, 192)  576        ['conv2d_163[0][0]']             \n",
      " Normalization)                                                                                   \n",
      "                                                                                                  \n",
      " activation_154 (Activation)    (None, 12, 12, 192)  0           ['batch_normalization_154[0][0]']\n",
      "                                                                                                  \n",
      " activation_157 (Activation)    (None, 12, 12, 192)  0           ['batch_normalization_157[0][0]']\n",
      "                                                                                                  \n",
      " activation_162 (Activation)    (None, 12, 12, 192)  0           ['batch_normalization_162[0][0]']\n",
      "                                                                                                  \n",
      " activation_163 (Activation)    (None, 12, 12, 192)  0           ['batch_normalization_163[0][0]']\n",
      "                                                                                                  \n",
      " mixed7 (Concatenate)           (None, 12, 12, 768)  0           ['activation_154[0][0]',         \n",
      "                                                                  'activation_157[0][0]',         \n",
      "                                                                  'activation_162[0][0]',         \n",
      "                                                                  'activation_163[0][0]']         \n",
      "                                                                                                  \n",
      " conv2d_166 (Conv2D)            (None, 12, 12, 192)  147456      ['mixed7[0][0]']                 \n",
      "                                                                                                  \n",
      " batch_normalization_166 (Batch  (None, 12, 12, 192)  576        ['conv2d_166[0][0]']             \n",
      " Normalization)                                                                                   \n",
      "                                                                                                  \n",
      " activation_166 (Activation)    (None, 12, 12, 192)  0           ['batch_normalization_166[0][0]']\n",
      "                                                                                                  \n",
      " conv2d_167 (Conv2D)            (None, 12, 12, 192)  258048      ['activation_166[0][0]']         \n",
      "                                                                                                  \n",
      " batch_normalization_167 (Batch  (None, 12, 12, 192)  576        ['conv2d_167[0][0]']             \n",
      " Normalization)                                                                                   \n",
      "                                                                                                  \n",
      " activation_167 (Activation)    (None, 12, 12, 192)  0           ['batch_normalization_167[0][0]']\n"
     ]
    },
    {
     "name": "stdout",
     "output_type": "stream",
     "text": [
      "                                                                                                  \n",
      " conv2d_164 (Conv2D)            (None, 12, 12, 192)  147456      ['mixed7[0][0]']                 \n",
      "                                                                                                  \n",
      " conv2d_168 (Conv2D)            (None, 12, 12, 192)  258048      ['activation_167[0][0]']         \n",
      "                                                                                                  \n",
      " batch_normalization_164 (Batch  (None, 12, 12, 192)  576        ['conv2d_164[0][0]']             \n",
      " Normalization)                                                                                   \n",
      "                                                                                                  \n",
      " batch_normalization_168 (Batch  (None, 12, 12, 192)  576        ['conv2d_168[0][0]']             \n",
      " Normalization)                                                                                   \n",
      "                                                                                                  \n",
      " activation_164 (Activation)    (None, 12, 12, 192)  0           ['batch_normalization_164[0][0]']\n",
      "                                                                                                  \n",
      " activation_168 (Activation)    (None, 12, 12, 192)  0           ['batch_normalization_168[0][0]']\n",
      "                                                                                                  \n",
      " conv2d_165 (Conv2D)            (None, 5, 5, 320)    552960      ['activation_164[0][0]']         \n",
      "                                                                                                  \n",
      " conv2d_169 (Conv2D)            (None, 5, 5, 192)    331776      ['activation_168[0][0]']         \n",
      "                                                                                                  \n",
      " batch_normalization_165 (Batch  (None, 5, 5, 320)   960         ['conv2d_165[0][0]']             \n",
      " Normalization)                                                                                   \n",
      "                                                                                                  \n",
      " batch_normalization_169 (Batch  (None, 5, 5, 192)   576         ['conv2d_169[0][0]']             \n",
      " Normalization)                                                                                   \n",
      "                                                                                                  \n",
      " activation_165 (Activation)    (None, 5, 5, 320)    0           ['batch_normalization_165[0][0]']\n",
      "                                                                                                  \n",
      " activation_169 (Activation)    (None, 5, 5, 192)    0           ['batch_normalization_169[0][0]']\n",
      "                                                                                                  \n",
      " max_pooling2d_7 (MaxPooling2D)  (None, 5, 5, 768)   0           ['mixed7[0][0]']                 \n",
      "                                                                                                  \n",
      " mixed8 (Concatenate)           (None, 5, 5, 1280)   0           ['activation_165[0][0]',         \n",
      "                                                                  'activation_169[0][0]',         \n",
      "                                                                  'max_pooling2d_7[0][0]']        \n",
      "                                                                                                  \n",
      " conv2d_174 (Conv2D)            (None, 5, 5, 448)    573440      ['mixed8[0][0]']                 \n",
      "                                                                                                  \n",
      " batch_normalization_174 (Batch  (None, 5, 5, 448)   1344        ['conv2d_174[0][0]']             \n",
      " Normalization)                                                                                   \n",
      "                                                                                                  \n",
      " activation_174 (Activation)    (None, 5, 5, 448)    0           ['batch_normalization_174[0][0]']\n",
      "                                                                                                  \n",
      " conv2d_171 (Conv2D)            (None, 5, 5, 384)    491520      ['mixed8[0][0]']                 \n",
      "                                                                                                  \n",
      " conv2d_175 (Conv2D)            (None, 5, 5, 384)    1548288     ['activation_174[0][0]']         \n",
      "                                                                                                  \n",
      " batch_normalization_171 (Batch  (None, 5, 5, 384)   1152        ['conv2d_171[0][0]']             \n",
      " Normalization)                                                                                   \n",
      "                                                                                                  \n",
      " batch_normalization_175 (Batch  (None, 5, 5, 384)   1152        ['conv2d_175[0][0]']             \n",
      " Normalization)                                                                                   \n",
      "                                                                                                  \n",
      " activation_171 (Activation)    (None, 5, 5, 384)    0           ['batch_normalization_171[0][0]']\n",
      "                                                                                                  \n",
      " activation_175 (Activation)    (None, 5, 5, 384)    0           ['batch_normalization_175[0][0]']\n",
      "                                                                                                  \n",
      " conv2d_172 (Conv2D)            (None, 5, 5, 384)    442368      ['activation_171[0][0]']         \n",
      "                                                                                                  \n",
      " conv2d_173 (Conv2D)            (None, 5, 5, 384)    442368      ['activation_171[0][0]']         \n",
      "                                                                                                  \n",
      " conv2d_176 (Conv2D)            (None, 5, 5, 384)    442368      ['activation_175[0][0]']         \n",
      "                                                                                                  \n",
      " conv2d_177 (Conv2D)            (None, 5, 5, 384)    442368      ['activation_175[0][0]']         \n",
      "                                                                                                  \n",
      " average_pooling2d_16 (AverageP  (None, 5, 5, 1280)  0           ['mixed8[0][0]']                 \n",
      " ooling2D)                                                                                        \n",
      "                                                                                                  \n",
      " conv2d_170 (Conv2D)            (None, 5, 5, 320)    409600      ['mixed8[0][0]']                 \n",
      "                                                                                                  \n",
      " batch_normalization_172 (Batch  (None, 5, 5, 384)   1152        ['conv2d_172[0][0]']             \n",
      " Normalization)                                                                                   \n",
      "                                                                                                  \n",
      " batch_normalization_173 (Batch  (None, 5, 5, 384)   1152        ['conv2d_173[0][0]']             \n",
      " Normalization)                                                                                   \n",
      "                                                                                                  \n",
      " batch_normalization_176 (Batch  (None, 5, 5, 384)   1152        ['conv2d_176[0][0]']             \n",
      " Normalization)                                                                                   \n",
      "                                                                                                  \n",
      " batch_normalization_177 (Batch  (None, 5, 5, 384)   1152        ['conv2d_177[0][0]']             \n",
      " Normalization)                                                                                   \n",
      "                                                                                                  \n",
      " conv2d_178 (Conv2D)            (None, 5, 5, 192)    245760      ['average_pooling2d_16[0][0]']   \n",
      "                                                                                                  \n"
     ]
    },
    {
     "name": "stdout",
     "output_type": "stream",
     "text": [
      " batch_normalization_170 (Batch  (None, 5, 5, 320)   960         ['conv2d_170[0][0]']             \n",
      " Normalization)                                                                                   \n",
      "                                                                                                  \n",
      " activation_172 (Activation)    (None, 5, 5, 384)    0           ['batch_normalization_172[0][0]']\n",
      "                                                                                                  \n",
      " activation_173 (Activation)    (None, 5, 5, 384)    0           ['batch_normalization_173[0][0]']\n",
      "                                                                                                  \n",
      " activation_176 (Activation)    (None, 5, 5, 384)    0           ['batch_normalization_176[0][0]']\n",
      "                                                                                                  \n",
      " activation_177 (Activation)    (None, 5, 5, 384)    0           ['batch_normalization_177[0][0]']\n",
      "                                                                                                  \n",
      " batch_normalization_178 (Batch  (None, 5, 5, 192)   576         ['conv2d_178[0][0]']             \n",
      " Normalization)                                                                                   \n",
      "                                                                                                  \n",
      " activation_170 (Activation)    (None, 5, 5, 320)    0           ['batch_normalization_170[0][0]']\n",
      "                                                                                                  \n",
      " mixed9_0 (Concatenate)         (None, 5, 5, 768)    0           ['activation_172[0][0]',         \n",
      "                                                                  'activation_173[0][0]']         \n",
      "                                                                                                  \n",
      " concatenate_2 (Concatenate)    (None, 5, 5, 768)    0           ['activation_176[0][0]',         \n",
      "                                                                  'activation_177[0][0]']         \n",
      "                                                                                                  \n",
      " activation_178 (Activation)    (None, 5, 5, 192)    0           ['batch_normalization_178[0][0]']\n",
      "                                                                                                  \n",
      " mixed9 (Concatenate)           (None, 5, 5, 2048)   0           ['activation_170[0][0]',         \n",
      "                                                                  'mixed9_0[0][0]',               \n",
      "                                                                  'concatenate_2[0][0]',          \n",
      "                                                                  'activation_178[0][0]']         \n",
      "                                                                                                  \n",
      " conv2d_183 (Conv2D)            (None, 5, 5, 448)    917504      ['mixed9[0][0]']                 \n",
      "                                                                                                  \n",
      " batch_normalization_183 (Batch  (None, 5, 5, 448)   1344        ['conv2d_183[0][0]']             \n",
      " Normalization)                                                                                   \n",
      "                                                                                                  \n",
      " activation_183 (Activation)    (None, 5, 5, 448)    0           ['batch_normalization_183[0][0]']\n",
      "                                                                                                  \n",
      " conv2d_180 (Conv2D)            (None, 5, 5, 384)    786432      ['mixed9[0][0]']                 \n",
      "                                                                                                  \n",
      " conv2d_184 (Conv2D)            (None, 5, 5, 384)    1548288     ['activation_183[0][0]']         \n",
      "                                                                                                  \n",
      " batch_normalization_180 (Batch  (None, 5, 5, 384)   1152        ['conv2d_180[0][0]']             \n",
      " Normalization)                                                                                   \n",
      "                                                                                                  \n",
      " batch_normalization_184 (Batch  (None, 5, 5, 384)   1152        ['conv2d_184[0][0]']             \n",
      " Normalization)                                                                                   \n",
      "                                                                                                  \n",
      " activation_180 (Activation)    (None, 5, 5, 384)    0           ['batch_normalization_180[0][0]']\n",
      "                                                                                                  \n",
      " activation_184 (Activation)    (None, 5, 5, 384)    0           ['batch_normalization_184[0][0]']\n",
      "                                                                                                  \n",
      " conv2d_181 (Conv2D)            (None, 5, 5, 384)    442368      ['activation_180[0][0]']         \n",
      "                                                                                                  \n",
      " conv2d_182 (Conv2D)            (None, 5, 5, 384)    442368      ['activation_180[0][0]']         \n",
      "                                                                                                  \n",
      " conv2d_185 (Conv2D)            (None, 5, 5, 384)    442368      ['activation_184[0][0]']         \n",
      "                                                                                                  \n",
      " conv2d_186 (Conv2D)            (None, 5, 5, 384)    442368      ['activation_184[0][0]']         \n",
      "                                                                                                  \n",
      " average_pooling2d_17 (AverageP  (None, 5, 5, 2048)  0           ['mixed9[0][0]']                 \n",
      " ooling2D)                                                                                        \n",
      "                                                                                                  \n",
      " conv2d_179 (Conv2D)            (None, 5, 5, 320)    655360      ['mixed9[0][0]']                 \n",
      "                                                                                                  \n",
      " batch_normalization_181 (Batch  (None, 5, 5, 384)   1152        ['conv2d_181[0][0]']             \n",
      " Normalization)                                                                                   \n",
      "                                                                                                  \n",
      " batch_normalization_182 (Batch  (None, 5, 5, 384)   1152        ['conv2d_182[0][0]']             \n",
      " Normalization)                                                                                   \n",
      "                                                                                                  \n",
      " batch_normalization_185 (Batch  (None, 5, 5, 384)   1152        ['conv2d_185[0][0]']             \n",
      " Normalization)                                                                                   \n",
      "                                                                                                  \n",
      " batch_normalization_186 (Batch  (None, 5, 5, 384)   1152        ['conv2d_186[0][0]']             \n",
      " Normalization)                                                                                   \n",
      "                                                                                                  \n",
      " conv2d_187 (Conv2D)            (None, 5, 5, 192)    393216      ['average_pooling2d_17[0][0]']   \n",
      "                                                                                                  \n",
      " batch_normalization_179 (Batch  (None, 5, 5, 320)   960         ['conv2d_179[0][0]']             \n",
      " Normalization)                                                                                   \n",
      "                                                                                                  \n",
      " activation_181 (Activation)    (None, 5, 5, 384)    0           ['batch_normalization_181[0][0]']\n",
      "                                                                                                  \n",
      " activation_182 (Activation)    (None, 5, 5, 384)    0           ['batch_normalization_182[0][0]']\n"
     ]
    },
    {
     "name": "stdout",
     "output_type": "stream",
     "text": [
      "                                                                                                  \n",
      " activation_185 (Activation)    (None, 5, 5, 384)    0           ['batch_normalization_185[0][0]']\n",
      "                                                                                                  \n",
      " activation_186 (Activation)    (None, 5, 5, 384)    0           ['batch_normalization_186[0][0]']\n",
      "                                                                                                  \n",
      " batch_normalization_187 (Batch  (None, 5, 5, 192)   576         ['conv2d_187[0][0]']             \n",
      " Normalization)                                                                                   \n",
      "                                                                                                  \n",
      " activation_179 (Activation)    (None, 5, 5, 320)    0           ['batch_normalization_179[0][0]']\n",
      "                                                                                                  \n",
      " mixed9_1 (Concatenate)         (None, 5, 5, 768)    0           ['activation_181[0][0]',         \n",
      "                                                                  'activation_182[0][0]']         \n",
      "                                                                                                  \n",
      " concatenate_3 (Concatenate)    (None, 5, 5, 768)    0           ['activation_185[0][0]',         \n",
      "                                                                  'activation_186[0][0]']         \n",
      "                                                                                                  \n",
      " activation_187 (Activation)    (None, 5, 5, 192)    0           ['batch_normalization_187[0][0]']\n",
      "                                                                                                  \n",
      " mixed10 (Concatenate)          (None, 5, 5, 2048)   0           ['activation_179[0][0]',         \n",
      "                                                                  'mixed9_1[0][0]',               \n",
      "                                                                  'concatenate_3[0][0]',          \n",
      "                                                                  'activation_187[0][0]']         \n",
      "                                                                                                  \n",
      " flatten_1 (Flatten)            (None, 51200)        0           ['mixed10[0][0]']                \n",
      "                                                                                                  \n",
      " dense_1 (Dense)                (None, 4)            204804      ['flatten_1[0][0]']              \n",
      "                                                                                                  \n",
      "==================================================================================================\n",
      "Total params: 22,007,588\n",
      "Trainable params: 204,804\n",
      "Non-trainable params: 21,802,784\n",
      "__________________________________________________________________________________________________\n"
     ]
    }
   ],
   "source": [
    "# view the structure of the model\n",
    "model.summary()\n"
   ]
  },
  {
   "cell_type": "code",
   "execution_count": 25,
   "metadata": {},
   "outputs": [],
   "source": [
    "# Compile the model by specifying the loss function, optimizer, and evaluation metrics\n",
    "model.compile(\n",
    "  loss='categorical_crossentropy',  # Loss function for categorical classification problems\n",
    "  optimizer='adam',                  # Optimization algorithm (Adam)\n",
    "  metrics=['accuracy']               # Metrics to monitor during training (accuracy)\n",
    ")\n"
   ]
  },
  {
   "cell_type": "markdown",
   "metadata": {},
   "source": [
    "This code segment compiles the model by specifying the loss function, optimizer, and metrics to be used during training. The chosen loss function is categorical crossentropy, which is commonly used for multi-class classification problems. The Adam optimizer is selected for optimization, which is an adaptive learning rate optimization algorithm. Finally, the accuracy metric is used to monitor the performance of the model during training."
   ]
  },
  {
   "cell_type": "code",
   "execution_count": 26,
   "metadata": {},
   "outputs": [],
   "source": [
    "# Use the ImageDataGenerator to preprocess and augment the training and test images\n",
    "from tensorflow.keras.preprocessing.image import ImageDataGenerator\n",
    "\n",
    "# Define data generators for training and test sets with specified preprocessing and augmentation parameters\n",
    "train_datagen = ImageDataGenerator(\n",
    "    rescale=1./255,         # Rescale pixel values to the range [0,1]\n",
    "    shear_range=0.2,        # Apply shear transformations with a shear intensity of 0.2\n",
    "    zoom_range=0.2,         # Apply zoom transformations with a zoom range of 0.2\n",
    "    horizontal_flip=True    # Randomly flip images horizontally\n",
    ")\n",
    "\n",
    "test_datagen = ImageDataGenerator(\n",
    "    rescale=1./255          # Rescale pixel values to the range [0,1] for test images\n",
    ")"
   ]
  },
  {
   "cell_type": "markdown",
   "metadata": {},
   "source": [
    "These lines of code define ImageDataGenerator objects for preprocessing and augmenting images during training and testing. For the training data, shear transformations, zoom transformations, and horizontal flips are applied to augment the dataset, which helps improve the model's generalization. The pixel values are also rescaled to the range [0,1]. For the test data, only rescaling is applied without any augmentation."
   ]
  },
  {
   "cell_type": "code",
   "execution_count": 27,
   "metadata": {},
   "outputs": [
    {
     "name": "stdout",
     "output_type": "stream",
     "text": [
      "Found 1951 images belonging to 4 classes.\n"
     ]
    }
   ],
   "source": [
    "# Generate batches of augmented training data from the directory 'Data/train'\n",
    "training_set = train_datagen.flow_from_directory(\n",
    "    'Data/train',                   # Path to the training data directory\n",
    "    target_size=(224, 224),         # Resize images to the specified target size\n",
    "    batch_size=32,                  # Number of samples per batch\n",
    "    class_mode='categorical'        # Type of label assignment for the classes (categorical for multi-class)\n",
    ")"
   ]
  },
  {
   "cell_type": "markdown",
   "metadata": {},
   "source": [
    "This code utilizes the flow_from_directory method of the train_datagen object to generate batches of augmented training data directly from the directory 'Data/train'. The images are resized to the specified target size (224, 224) to match the input size expected by the model. The batch size is set to 32, meaning each batch will contain 32 samples. The class mode is set to 'categorical', indicating that the labels are provided in categorical format for multi-class classification."
   ]
  },
  {
   "cell_type": "code",
   "execution_count": 28,
   "metadata": {},
   "outputs": [
    {
     "name": "stdout",
     "output_type": "stream",
     "text": [
      "Found 18 images belonging to 4 classes.\n"
     ]
    }
   ],
   "source": [
    "# Generate batches of augmented test data from the directory 'Data/test'\n",
    "test_set = test_datagen.flow_from_directory(\n",
    "    'Data/test',                    # Path to the test data directory\n",
    "    target_size=(224, 224),         # Resize images to the specified target size\n",
    "    batch_size=32,                  # Number of samples per batch\n",
    "    class_mode='categorical'        # Type of label assignment for the classes (categorical for multi-class)\n",
    ")"
   ]
  },
  {
   "cell_type": "markdown",
   "metadata": {},
   "source": [
    "Similar to the training set, this code utilizes the flow_from_directory method of the test_datagen object to generate batches of augmented test data directly from the directory 'Data/test'. The images are resized to the specified target size (224, 224) to match the input size expected by the model. The batch size is set to 32, meaning each batch will contain 32 samples. The class mode is set to 'categorical', indicating that the labels are provided in categorical format for multi-class classification, consistent with the training set."
   ]
  },
  {
   "cell_type": "code",
   "execution_count": 29,
   "metadata": {
    "scrolled": true
   },
   "outputs": [
    {
     "name": "stderr",
     "output_type": "stream",
     "text": [
      "C:\\Users\\burzi\\AppData\\Local\\Temp\\ipykernel_2244\\3763457849.py:3: UserWarning: `Model.fit_generator` is deprecated and will be removed in a future version. Please use `Model.fit`, which supports generators.\n",
      "  r = model.fit_generator(\n"
     ]
    },
    {
     "name": "stdout",
     "output_type": "stream",
     "text": [
      "Epoch 1/20\n",
      "61/61 [==============================] - 65s 985ms/step - loss: 2.2745 - accuracy: 0.7442 - val_loss: 1.2754 - val_accuracy: 0.8333\n",
      "Epoch 2/20\n",
      "61/61 [==============================] - 58s 955ms/step - loss: 0.9148 - accuracy: 0.8652 - val_loss: 0.6822 - val_accuracy: 0.7778\n",
      "Epoch 3/20\n",
      "61/61 [==============================] - 57s 930ms/step - loss: 0.4346 - accuracy: 0.9226 - val_loss: 0.0638 - val_accuracy: 0.9444\n",
      "Epoch 4/20\n",
      "61/61 [==============================] - 58s 947ms/step - loss: 0.4860 - accuracy: 0.9144 - val_loss: 0.0079 - val_accuracy: 1.0000\n",
      "Epoch 5/20\n",
      "61/61 [==============================] - 57s 932ms/step - loss: 0.4230 - accuracy: 0.9272 - val_loss: 0.0508 - val_accuracy: 0.9444\n",
      "Epoch 6/20\n",
      "61/61 [==============================] - 59s 960ms/step - loss: 0.5189 - accuracy: 0.9221 - val_loss: 0.4830 - val_accuracy: 0.9444\n",
      "Epoch 7/20\n",
      "61/61 [==============================] - 59s 968ms/step - loss: 0.4635 - accuracy: 0.9323 - val_loss: 5.0215e-04 - val_accuracy: 1.0000\n",
      "Epoch 8/20\n",
      "61/61 [==============================] - 59s 963ms/step - loss: 0.4111 - accuracy: 0.9431 - val_loss: 0.0085 - val_accuracy: 1.0000\n",
      "Epoch 9/20\n",
      "61/61 [==============================] - 57s 933ms/step - loss: 0.4330 - accuracy: 0.9364 - val_loss: 0.6577 - val_accuracy: 0.8889\n",
      "Epoch 10/20\n",
      "61/61 [==============================] - 58s 945ms/step - loss: 0.4843 - accuracy: 0.9318 - val_loss: 0.0249 - val_accuracy: 1.0000\n",
      "Epoch 11/20\n",
      "61/61 [==============================] - 56s 918ms/step - loss: 0.4094 - accuracy: 0.9477 - val_loss: 0.8044 - val_accuracy: 0.9444\n",
      "Epoch 12/20\n",
      "61/61 [==============================] - 58s 946ms/step - loss: 0.4965 - accuracy: 0.9390 - val_loss: 0.7861 - val_accuracy: 0.9444\n",
      "Epoch 13/20\n",
      "61/61 [==============================] - 58s 949ms/step - loss: 0.4660 - accuracy: 0.9416 - val_loss: 0.0014 - val_accuracy: 1.0000\n",
      "Epoch 14/20\n",
      "61/61 [==============================] - 58s 944ms/step - loss: 0.3991 - accuracy: 0.9595 - val_loss: 0.1741 - val_accuracy: 0.9444\n",
      "Epoch 15/20\n",
      "61/61 [==============================] - 57s 933ms/step - loss: 0.4002 - accuracy: 0.9539 - val_loss: 0.0012 - val_accuracy: 1.0000\n",
      "Epoch 16/20\n",
      "61/61 [==============================] - 58s 939ms/step - loss: 0.4474 - accuracy: 0.9508 - val_loss: 0.0024 - val_accuracy: 1.0000\n",
      "Epoch 17/20\n",
      "61/61 [==============================] - 57s 931ms/step - loss: 0.3565 - accuracy: 0.9580 - val_loss: 1.4371 - val_accuracy: 0.8889\n",
      "Epoch 18/20\n",
      "61/61 [==============================] - 58s 942ms/step - loss: 0.4002 - accuracy: 0.9549 - val_loss: 7.7349e-06 - val_accuracy: 1.0000\n",
      "Epoch 19/20\n",
      "61/61 [==============================] - 59s 955ms/step - loss: 0.3187 - accuracy: 0.9595 - val_loss: 4.1794e-04 - val_accuracy: 1.0000\n",
      "Epoch 20/20\n",
      "61/61 [==============================] - 58s 943ms/step - loss: 0.3665 - accuracy: 0.9641 - val_loss: 0.0071 - val_accuracy: 1.0000\n"
     ]
    }
   ],
   "source": [
    "# Fit the model to the training data\n",
    "# Running this cell will initiate the training process, which may take some time to execute\n",
    "r = model.fit_generator(\n",
    "    training_set,                               # Training data generator\n",
    "    validation_data=test_set,                   # Validation data generator\n",
    "    epochs=20,                                  # Number of epochs for training\n",
    "    steps_per_epoch=len(training_set),          # Number of steps (batches) per epoch for training\n",
    "    validation_steps=len(test_set)              # Number of steps (batches) per epoch for validation\n",
    ")\n"
   ]
  },
  {
   "cell_type": "markdown",
   "metadata": {},
   "source": [
    "This code segment fits the model to the training data using the fit_generator method. During training, it iterates over batches of data generated by training_set, validates the model's performance on batches from test_set, and updates the model's weights to minimize the specified loss function. The training process is repeated for the specified number of epochs. The steps_per_epoch and validation_steps parameters determine the number of batches per epoch for training and validation, respectively."
   ]
  },
  {
   "cell_type": "code",
   "execution_count": 30,
   "metadata": {},
   "outputs": [],
   "source": [
    "import matplotlib.pyplot as plt"
   ]
  },
  {
   "cell_type": "code",
   "execution_count": 31,
   "metadata": {},
   "outputs": [
    {
     "data": {
      "image/png": "[encoded data removed]",
      "text/plain": [
       "<Figure size 640x480 with 1 Axes>"
      ]
     },
     "metadata": {},
     "output_type": "display_data"
    },
    {
     "data": {
      "image/png": "[encoded data removed]",
      "text/plain": [
       "<Figure size 640x480 with 1 Axes>"
      ]
     },
     "metadata": {},
     "output_type": "display_data"
    },
    {
     "data": {
      "text/plain": [
       "<Figure size 640x480 with 0 Axes>"
      ]
     },
     "metadata": {},
     "output_type": "display_data"
    }
   ],
   "source": [
    "# Plot the training and validation loss\n",
    "plt.plot(r.history['loss'], label='train loss')          # Plot the training loss\n",
    "plt.plot(r.history['val_loss'], label='val loss')        # Plot the validation loss\n",
    "plt.legend()                                             # Add legend to the plot\n",
    "plt.show()                                               # Show the plot\n",
    "plt.savefig('LossVal_loss')                              # Save the plot as 'LossVal_loss.png'\n",
    "\n",
    "# Plot the training and validation accuracy\n",
    "plt.plot(r.history['accuracy'], label='train acc')       # Plot the training accuracy\n",
    "plt.plot(r.history['val_accuracy'], label='val acc')     # Plot the validation accuracy\n",
    "plt.legend()                                             # Add legend to the plot\n",
    "plt.show()                                               # Show the plot\n",
    "plt.savefig('AccVal_acc')                                # Save the plot as 'AccVal_acc.png'"
   ]
  },
  {
   "cell_type": "markdown",
   "metadata": {},
   "source": [
    "These lines of code generate plots for training and validation loss, as well as training and validation accuracy, based on the training history (r). The plots provide insights into how the model's performance changes over the training epochs. The plots are displayed and saved as image files. However, please note that calling plt.savefig() after plt.show() may not save the plot as expected; it's usually more appropriate to call plt.savefig() before plt.show()."
   ]
  },
  {
   "cell_type": "code",
   "execution_count": 32,
   "metadata": {},
   "outputs": [],
   "source": [
    "# Save the trained model as an HDF5 file\n",
    "from tensorflow.keras.models import load_model\n",
    "\n",
    "model.save('model_inception.h5')  # Save the model with filename 'model_inception.h5'"
   ]
  },
  {
   "cell_type": "markdown",
   "metadata": {},
   "source": [
    "This code segment saves the trained model (model) to an HDF5 file format using the save() method. The model is saved with the filename 'model_inception.h5', which will be stored in the current directory unless specified otherwise. The HDF5 file format allows for easy storage and retrieval of the model's architecture, weights, and training configuration."
   ]
  },
  {
   "cell_type": "code",
   "execution_count": 33,
   "metadata": {},
   "outputs": [
    {
     "name": "stdout",
     "output_type": "stream",
     "text": [
      "1/1 [==============================] - 4s 4s/step\n"
     ]
    }
   ],
   "source": [
    "# Use the trained model to make predictions on the test data\n",
    "y_pred = model.predict(test_set)"
   ]
  },
  {
   "cell_type": "markdown",
   "metadata": {},
   "source": [
    "This line of code utilizes the trained model (model) to make predictions on the test data (test_set) using the predict() method. The test_set contains batches of images from the test dataset, and y_pred will contain the predicted probabilities for each class for each image in the test set."
   ]
  },
  {
   "cell_type": "code",
   "execution_count": 34,
   "metadata": {},
   "outputs": [
    {
     "data": {
      "text/plain": [
       "array([[0.00000000e+00, 1.00000000e+00, 0.00000000e+00, 4.15719392e-20],\n",
       "       [0.00000000e+00, 1.00000000e+00, 0.00000000e+00, 1.37526929e-37],\n",
       "       [2.01870846e-29, 4.00479720e-08, 3.14008857e-26, 1.00000000e+00],\n",
       "       [8.08926700e-07, 8.10840354e-17, 8.83594096e-01, 1.16405122e-01],\n",
       "       [1.00000000e+00, 5.03515300e-22, 8.21936029e-20, 2.05494398e-31],\n",
       "       [6.27379996e-33, 1.00000000e+00, 5.63653591e-25, 2.45209048e-10],\n",
       "       [1.24280302e-22, 1.79148095e-14, 1.13641900e-26, 1.00000000e+00],\n",
       "       [9.81808590e-09, 3.45590685e-08, 9.96623516e-01, 3.37640685e-03],\n",
       "       [8.91289360e-17, 1.59482271e-11, 1.00000000e+00, 5.88316244e-23],\n",
       "       [0.00000000e+00, 1.66023222e-16, 0.00000000e+00, 1.00000000e+00],\n",
       "       [4.20424266e-19, 1.09937635e-20, 2.31668846e-20, 1.00000000e+00],\n",
       "       [0.00000000e+00, 1.00000000e+00, 0.00000000e+00, 1.40523793e-29],\n",
       "       [1.00000000e+00, 0.00000000e+00, 6.57296064e-24, 4.87428874e-20],\n",
       "       [1.92834978e-24, 9.99953747e-01, 1.13891131e-23, 4.62803800e-05],\n",
       "       [9.99954820e-01, 4.51231026e-05, 4.24364242e-26, 2.00855044e-11],\n",
       "       [2.30087298e-18, 0.00000000e+00, 1.00000000e+00, 5.82170019e-31],\n",
       "       [0.00000000e+00, 0.00000000e+00, 0.00000000e+00, 1.00000000e+00],\n",
       "       [3.44818277e-13, 3.82135051e-28, 1.00000000e+00, 7.94359999e-19]],\n",
       "      dtype=float32)"
      ]
     },
     "execution_count": 34,
     "metadata": {},
     "output_type": "execute_result"
    }
   ],
   "source": [
    "y_pred"
   ]
  },
  {
   "cell_type": "code",
   "execution_count": 35,
   "metadata": {},
   "outputs": [],
   "source": [
    "import numpy as np\n",
    "\n",
    "# Convert the predicted probabilities to class labels\n",
    "y_pred = np.argmax(y_pred, axis=1)"
   ]
  },
  {
   "cell_type": "code",
   "execution_count": 36,
   "metadata": {},
   "outputs": [
    {
     "data": {
      "text/plain": [
       "array([1, 1, 3, 2, 0, 1, 3, 2, 2, 3, 3, 1, 0, 1, 0, 2, 3, 2], dtype=int64)"
      ]
     },
     "execution_count": 36,
     "metadata": {},
     "output_type": "execute_result"
    }
   ],
   "source": [
    "y_pred"
   ]
  },
  {
   "cell_type": "markdown",
   "metadata": {},
   "source": [
    "The variable y_pred contains the predicted class labels for the test dataset. Printing y_pred will display these predicted labels. However, as an AI language model, I'm unable to execute code directly. If you print y_pred in your Python environment, you'll see the array of predicted class labels for the test dataset."
   ]
  },
  {
   "cell_type": "code",
   "execution_count": 37,
   "metadata": {},
   "outputs": [],
   "source": [
    "from tensorflow.keras.models import load_model               # Import function to load a pre-trained model\n",
    "from tensorflow.keras.preprocessing import image            # Import module for preprocessing images"
   ]
  },
  {
   "cell_type": "markdown",
   "metadata": {},
   "source": [
    "With these imports, you can load a pre-trained model from a saved file using load_model() and prepare images for inference using various preprocessing functions provided by the image module."
   ]
  },
  {
   "cell_type": "code",
   "execution_count": 38,
   "metadata": {},
   "outputs": [],
   "source": [
    "model=load_model('model_inception.h5')"
   ]
  },
  {
   "cell_type": "markdown",
   "metadata": {},
   "source": [
    "This line of code loads a pre-trained model from the saved file 'model_inception.h5' using the load_model() function.\n",
    "After executing this line, the variable model will contain the loaded pre-trained model, which can then be used for making predictions on new data."
   ]
  },
  {
   "cell_type": "code",
   "execution_count": 39,
   "metadata": {},
   "outputs": [
    {
     "ename": "NameError",
     "evalue": "name 'img_data' is not defined",
     "output_type": "error",
     "traceback": [
      "\u001b[1;31m---------------------------------------------------------------------------\u001b[0m",
      "\u001b[1;31mNameError\u001b[0m                                 Traceback (most recent call last)",
      "Cell \u001b[1;32mIn[39], line 1\u001b[0m\n\u001b[1;32m----> 1\u001b[0m \u001b[43mimg_data\u001b[49m\n",
      "\u001b[1;31mNameError\u001b[0m: name 'img_data' is not defined"
     ]
    }
   ],
   "source": [
    "img_data"
   ]
  },
  {
   "cell_type": "code",
   "execution_count": null,
   "metadata": {},
   "outputs": [],
   "source": [
    "img=image.load_img('Data/Test/Coffee/download (2).jpg',target_size=(224,224))"
   ]
  },
  {
   "cell_type": "code",
   "execution_count": null,
   "metadata": {},
   "outputs": [],
   "source": [
    "x=image.img_to_array(img)\n",
    "x"
   ]
  },
  {
   "cell_type": "code",
   "execution_count": null,
   "metadata": {},
   "outputs": [],
   "source": [
    "x.shape"
   ]
  },
  {
   "cell_type": "code",
   "execution_count": null,
   "metadata": {},
   "outputs": [],
   "source": [
    "x=x/255"
   ]
  },
  {
   "cell_type": "code",
   "execution_count": null,
   "metadata": {},
   "outputs": [],
   "source": [
    "import numpy as np\n",
    "x=np.expand_dims(x,axis=0)\n",
    "img_data=preprocess_input(x)\n",
    "img_data.shape"
   ]
  },
  {
   "cell_type": "code",
   "execution_count": null,
   "metadata": {},
   "outputs": [],
   "source": [
    "model.predict(img_data)"
   ]
  },
  {
   "cell_type": "code",
   "execution_count": null,
   "metadata": {},
   "outputs": [],
   "source": [
    "a=np.argmax(model.predict(img_data), axis=1)"
   ]
  },
  {
   "cell_type": "code",
   "execution_count": null,
   "metadata": {},
   "outputs": [],
   "source": [
    "a==1"
   ]
  },
  {
   "cell_type": "code",
   "execution_count": null,
   "metadata": {},
   "outputs": [],
   "source": [
    "import tensorflow as tf"
   ]
  },
  {
   "cell_type": "code",
   "execution_count": null,
   "metadata": {},
   "outputs": [],
   "source": [
    "tf.__version__"
   ]
  },
  {
   "cell_type": "code",
   "execution_count": null,
   "metadata": {},
   "outputs": [],
   "source": []
  }
 ],
 "metadata": {
  "kernelspec": {
   "display_name": "Python 3 (ipykernel)",
   "language": "python",
   "name": "python3"
  },
  "language_info": {
   "codemirror_mode": {
    "name": "ipython",
    "version": 3
   },
   "file_extension": ".py",
   "mimetype": "text/x-python",
   "name": "python",
   "nbconvert_exporter": "python",
   "pygments_lexer": "ipython3",
   "version": "3.9.13"
  }
 },
 "nbformat": 4,
 "nbformat_minor": 2
}
